{
  "nbformat": 4,
  "nbformat_minor": 0,
  "metadata": {
    "colab": {
      "provenance": []
    },
    "kernelspec": {
      "name": "python3",
      "display_name": "Python 3"
    },
    "language_info": {
      "name": "python"
    }
  },
  "cells": [
    {
      "cell_type": "markdown",
      "metadata": {
        "id": "o3Vp9R1NWm3Q"
      },
      "source": [
        "## Extract Dataset"
      ]
    },
    {
      "cell_type": "code",
      "execution_count": null,
      "metadata": {
        "colab": {
          "base_uri": "https://localhost:8080/"
        },
        "id": "ltEiGKhpW-qO",
        "outputId": "725dd11d-82db-4e1b-a9b3-53a4b5006625"
      },
      "outputs": [
        {
          "output_type": "stream",
          "name": "stdout",
          "text": [
            "Looking in indexes: https://pypi.org/simple, https://us-python.pkg.dev/colab-wheels/public/simple/\n",
            "Requirement already satisfied: kaggle in /usr/local/lib/python3.9/dist-packages (1.5.13)\n",
            "Requirement already satisfied: python-dateutil in /usr/local/lib/python3.9/dist-packages (from kaggle) (2.8.2)\n",
            "Requirement already satisfied: python-slugify in /usr/local/lib/python3.9/dist-packages (from kaggle) (8.0.1)\n",
            "Requirement already satisfied: urllib3 in /usr/local/lib/python3.9/dist-packages (from kaggle) (1.26.15)\n",
            "Requirement already satisfied: six>=1.10 in /usr/local/lib/python3.9/dist-packages (from kaggle) (1.16.0)\n",
            "Requirement already satisfied: tqdm in /usr/local/lib/python3.9/dist-packages (from kaggle) (4.65.0)\n",
            "Requirement already satisfied: certifi in /usr/local/lib/python3.9/dist-packages (from kaggle) (2022.12.7)\n",
            "Requirement already satisfied: requests in /usr/local/lib/python3.9/dist-packages (from kaggle) (2.27.1)\n",
            "Requirement already satisfied: text-unidecode>=1.3 in /usr/local/lib/python3.9/dist-packages (from python-slugify->kaggle) (1.3)\n",
            "Requirement already satisfied: idna<4,>=2.5 in /usr/local/lib/python3.9/dist-packages (from requests->kaggle) (3.4)\n",
            "Requirement already satisfied: charset-normalizer~=2.0.0 in /usr/local/lib/python3.9/dist-packages (from requests->kaggle) (2.0.12)\n"
          ]
        }
      ],
      "source": [
        "! pip install kaggle"
      ]
    },
    {
      "cell_type": "code",
      "execution_count": null,
      "metadata": {
        "id": "u7aCrTW9W_Nu"
      },
      "outputs": [],
      "source": [
        "! mkdir ~/.kaggle"
      ]
    },
    {
      "cell_type": "code",
      "execution_count": null,
      "metadata": {
        "id": "NXaxN_MAXEc2"
      },
      "outputs": [],
      "source": [
        "! cp kaggle.json ~/.kaggle/"
      ]
    },
    {
      "cell_type": "code",
      "source": [],
      "metadata": {
        "id": "4-Vpv1y6c7By"
      },
      "execution_count": null,
      "outputs": []
    },
    {
      "cell_type": "code",
      "execution_count": null,
      "metadata": {
        "id": "NkiMq5vyXFRu"
      },
      "outputs": [],
      "source": [
        "! chmod 600 ~/.kaggle/kaggle.json"
      ]
    },
    {
      "cell_type": "markdown",
      "metadata": {
        "id": "R5-C5czlXGrW"
      },
      "source": [
        "## Download Data "
      ]
    },
    {
      "cell_type": "code",
      "execution_count": null,
      "metadata": {
        "colab": {
          "base_uri": "https://localhost:8080/"
        },
        "id": "CyTPKF64XGZe",
        "outputId": "b913d3cf-0a2c-4b1b-f66b-06c8af8d81ae"
      },
      "outputs": [
        {
          "output_type": "stream",
          "name": "stdout",
          "text": [
            "Downloading heart-rate-prediction-to-monitor-stress-level.zip to /content\n",
            " 92% 129M/140M [00:01<00:00, 108MB/s]\n",
            "100% 140M/140M [00:01<00:00, 92.3MB/s]\n"
          ]
        }
      ],
      "source": [
        "! kaggle datasets download vinayakshanawad/heart-rate-prediction-to-monitor-stress-level"
      ]
    },
    {
      "cell_type": "markdown",
      "metadata": {
        "id": "Y5S2WcA4YWE1"
      },
      "source": [
        "## Extract Dataset"
      ]
    },
    {
      "cell_type": "code",
      "execution_count": null,
      "metadata": {
        "id": "EVQwOegEYXLD"
      },
      "outputs": [],
      "source": [
        "import zipfile\n",
        "with zipfile.ZipFile('/content/heart-rate-prediction-to-monitor-stress-level.zip', 'r') as zip_ref:\n",
        "    zip_ref.extractall('heart')"
      ]
    },
    {
      "cell_type": "markdown",
      "metadata": {
        "id": "v-N0SGeKd4mD"
      },
      "source": [
        "## Load Data"
      ]
    },
    {
      "cell_type": "code",
      "execution_count": null,
      "metadata": {
        "id": "q-XoyLqieZ6z"
      },
      "outputs": [],
      "source": [
        "import pandas as pd\n",
        "import numpy as np\n",
        "import matplotlib.pyplot as plt\n",
        "import seaborn as sns\n",
        "import plotly.express as px\n",
        "from sklearn.linear_model import LogisticRegression\n",
        "## Feature Selection\n",
        "from sklearn.feature_selection import SequentialFeatureSelector\n",
        "from typing import Tuple, Union, List\n",
        "import numpy as np\n",
        "import pandas as pd\n",
        "from sklearn.preprocessing import StandardScaler\n",
        "from sklearn.linear_model import LogisticRegression\n",
        "from sklearn.model_selection import train_test_split\n",
        "from sklearn.preprocessing import LabelEncoder\n",
        "from sklearn.inspection import permutation_importance\n",
        "from sklearn.feature_selection import SelectKBest\n",
        "from sklearn.feature_selection import f_classif\n",
        "from keras.utils import to_categorical"
      ]
    },
    {
      "cell_type": "markdown",
      "metadata": {
        "id": "dQJCBxa0iYL9"
      },
      "source": [
        "## Train Data"
      ]
    },
    {
      "cell_type": "code",
      "execution_count": null,
      "metadata": {
        "id": "KAtG58Z7iZrK"
      },
      "outputs": [],
      "source": [
        "fdf = pd.read_csv('/content/heart/Train Data/Train Data Zip/frequency_domain_features_train.csv')\n",
        "hrn = pd.read_csv('/content/heart/Train Data/Train Data Zip/heart_rate_non_linear_features_train.csv')\n",
        "tdf = pd.read_csv('/content/heart/Train Data/Train Data Zip/time_domain_features_train.csv')\n",
        "\n",
        "train_df = pd.merge(fdf, hrn, on='uuid')\n",
        "train_df = pd.merge(train_df, tdf, on='uuid')"
      ]
    },
    {
      "cell_type": "markdown",
      "source": [
        "## Test Data"
      ],
      "metadata": {
        "id": "dnU8oylgWmLm"
      }
    },
    {
      "cell_type": "code",
      "source": [
        " ## Test Data\n",
        "tfdf = pd.read_csv('/content/heart/Test Data/Test Zip/frequency_domain_features_test.csv')\n",
        "thrn = pd.read_csv('/content/heart/Test Data/Test Zip/heart_rate_non_linear_features_test.csv')\n",
        "ttdf = pd.read_csv('/content/heart/Test Data/Test Zip/time_domain_features_test.csv')\n",
        "\n",
        "test_df = pd.merge(tfdf, thrn, on='uuid')\n",
        "test_df = pd.merge(test_df, ttdf, on='uuid')"
      ],
      "metadata": {
        "id": "4v8T_V7VWmy_"
      },
      "execution_count": null,
      "outputs": []
    },
    {
      "cell_type": "code",
      "source": [
        "df = pd.concat([train_df, test_df])\n",
        "df = df.drop(['uuid', 'HR'], axis=1)\n",
        "#df = df[0:3000]\n",
        "\n",
        "## Label Encoder\n",
        "lb = LabelEncoder()  ## Encoder that convert and store all the information\n",
        "df['condition'] = lb.fit_transform(df['condition'])\n",
        "\n",
        "x = df.drop('condition', axis=1)\n",
        "y = df.condition"
      ],
      "metadata": {
        "id": "0HsW_JpJWpih"
      },
      "execution_count": null,
      "outputs": []
    },
    {
      "cell_type": "markdown",
      "source": [
        "## Feature Selection"
      ],
      "metadata": {
        "id": "CEw3zgEgW3hW"
      }
    },
    {
      "cell_type": "code",
      "source": [
        "## Model\n",
        "lrr = LogisticRegression(penalty=\"l2\",)\n",
        "lrr.fit(x, y)\n",
        "result = permutation_importance(lrr, x, y, n_repeats=3, random_state=0)\n",
        "sorted_idx = result.importances_mean.argsort()\n",
        "index = sorted_idx[25:33]\n",
        "x = x.iloc[:, index]"
      ],
      "metadata": {
        "id": "Q4WFkMz3W5GA",
        "colab": {
          "base_uri": "https://localhost:8080/"
        },
        "outputId": "30deb751-eb6e-4c98-89eb-3b44e2d9d4b2"
      },
      "execution_count": null,
      "outputs": [
        {
          "output_type": "stream",
          "name": "stderr",
          "text": [
            "/usr/local/lib/python3.9/dist-packages/sklearn/linear_model/_logistic.py:458: ConvergenceWarning: lbfgs failed to converge (status=1):\n",
            "STOP: TOTAL NO. of ITERATIONS REACHED LIMIT.\n",
            "\n",
            "Increase the number of iterations (max_iter) or scale the data as shown in:\n",
            "    https://scikit-learn.org/stable/modules/preprocessing.html\n",
            "Please also refer to the documentation for alternative solver options:\n",
            "    https://scikit-learn.org/stable/modules/linear_model.html#logistic-regression\n",
            "  n_iter_i = _check_optimize_result(\n"
          ]
        }
      ]
    },
    {
      "cell_type": "code",
      "source": [
        "result"
      ],
      "metadata": {
        "colab": {
          "base_uri": "https://localhost:8080/"
        },
        "id": "PU4-8ChMkZhG",
        "outputId": "839dcb25-a54f-45a4-d6db-2de42095b760"
      },
      "execution_count": null,
      "outputs": [
        {
          "output_type": "execute_result",
          "data": {
            "text/plain": [
              "{'importances_mean': array([ 2.42234148e-01,  2.32524700e-02,  1.61294463e-01,  2.20152303e-04,\n",
              "        -1.55487641e-03,  1.32359464e-02,  2.68082140e-05,  2.05529641e-04,\n",
              "         1.77521556e-01,  1.99128164e-02,  0.00000000e+00,  1.30791590e-04,\n",
              "         5.57204667e-03,  1.62474024e-06,  1.62474024e-06,  0.00000000e+00,\n",
              "         1.65853484e-02,  4.61101281e-02,  2.67351007e-03,  2.46148147e-04,\n",
              "         2.46960517e-04,  4.81735483e-04,  7.81743769e-03,  2.43711037e-06,\n",
              "         1.05608116e-04,  1.21855518e-05,  0.00000000e+00,  0.00000000e+00,\n",
              "         0.00000000e+00,  0.00000000e+00,  0.00000000e+00, -3.24948049e-06,\n",
              "         1.05608116e-04,  1.21855518e-05]),\n",
              " 'importances_std': array([6.31633312e-04, 1.96949080e-04, 3.06303398e-04, 2.19189442e-05,\n",
              "        1.07472607e-04, 6.80938697e-05, 1.10792513e-05, 2.26300130e-05,\n",
              "        6.86005083e-04, 2.32079230e-04, 0.00000000e+00, 1.32493557e-05,\n",
              "        2.06386783e-04, 3.03961067e-06, 1.14886484e-06, 0.00000000e+00,\n",
              "        3.12586258e-04, 3.68533208e-05, 1.11841860e-04, 9.11883201e-06,\n",
              "        1.02113341e-05, 2.74528220e-05, 3.48278525e-05, 9.94946141e-06,\n",
              "        2.55864350e-05, 8.67373937e-06, 0.00000000e+00, 0.00000000e+00,\n",
              "        0.00000000e+00, 0.00000000e+00, 0.00000000e+00, 4.59545938e-06,\n",
              "        2.55864350e-05, 8.67373937e-06]),\n",
              " 'importances': array([[ 2.41829587e-01,  2.43126130e-01,  2.41746726e-01],\n",
              "        [ 2.34718099e-02,  2.29941363e-02,  2.32914638e-02],\n",
              "        [ 1.61499993e-01,  1.61521927e-01,  1.60861470e-01],\n",
              "        [ 2.46148147e-04,  2.21777043e-04,  1.92531719e-04],\n",
              "        [-1.58412174e-03, -1.66942060e-03, -1.41108690e-03],\n",
              "        [ 1.33309937e-02,  1.32018269e-02,  1.31750186e-02],\n",
              "        [ 3.89937659e-05,  2.92453244e-05,  1.21855518e-05],\n",
              "        [ 1.97405940e-04,  2.36399706e-04,  1.82783278e-04],\n",
              "        [ 1.77485000e-01,  1.76700250e-01,  1.78379419e-01],\n",
              "        [ 2.00793523e-02,  1.95846189e-02,  2.00744781e-02],\n",
              "        [ 0.00000000e+00,  0.00000000e+00,  0.00000000e+00],\n",
              "        [ 1.26729739e-04,  1.16981298e-04,  1.48663732e-04],\n",
              "        [ 5.86125043e-03,  5.39332524e-03,  5.46156433e-03],\n",
              "        [ 4.87422073e-06, -2.43711037e-06,  2.43711037e-06],\n",
              "        [ 0.00000000e+00,  2.43711037e-06,  2.43711037e-06],\n",
              "        [ 0.00000000e+00,  0.00000000e+00,  0.00000000e+00],\n",
              "        [ 1.66235298e-02,  1.69476655e-02,  1.61848499e-02],\n",
              "        [ 4.61564332e-02,  4.60662602e-02,  4.61076910e-02],\n",
              "        [ 2.71737806e-03,  2.51997212e-03,  2.78318004e-03],\n",
              "        [ 2.43711037e-04,  2.36399706e-04,  2.58333699e-04],\n",
              "        [ 2.43711037e-04,  2.36399706e-04,  2.60770809e-04],\n",
              "        [ 4.43554087e-04,  4.94733404e-04,  5.06918956e-04],\n",
              "        [ 7.85968093e-03,  7.77438207e-03,  7.81825006e-03],\n",
              "        [ 1.46226622e-05, -9.74844147e-06,  2.43711037e-06],\n",
              "        [ 1.41352401e-04,  9.26101939e-05,  8.28617525e-05],\n",
              "        [ 4.87422073e-06,  2.43711037e-05,  7.31133110e-06],\n",
              "        [ 0.00000000e+00,  0.00000000e+00,  0.00000000e+00],\n",
              "        [ 0.00000000e+00,  0.00000000e+00,  0.00000000e+00],\n",
              "        [ 0.00000000e+00,  0.00000000e+00,  0.00000000e+00],\n",
              "        [ 0.00000000e+00,  0.00000000e+00,  0.00000000e+00],\n",
              "        [ 0.00000000e+00,  0.00000000e+00,  0.00000000e+00],\n",
              "        [ 0.00000000e+00,  0.00000000e+00, -9.74844147e-06],\n",
              "        [ 1.41352401e-04,  9.26101939e-05,  8.28617525e-05],\n",
              "        [ 4.87422073e-06,  2.43711037e-05,  7.31133110e-06]])}"
            ]
          },
          "metadata": {},
          "execution_count": 12
        }
      ]
    },
    {
      "cell_type": "code",
      "source": [
        "  # Standardizing the features\n",
        "sc = StandardScaler()\n",
        "x = sc.fit_transform(x)"
      ],
      "metadata": {
        "id": "V4MKYQd4XjOb"
      },
      "execution_count": null,
      "outputs": []
    },
    {
      "cell_type": "code",
      "source": [
        "\"\"\" Select the 80% of the data as Training data and 20% as test data \"\"\"\n",
        "x_train, x_test, y_train, y_test = train_test_split(x, y, test_size=0.2, random_state=85, shuffle=True, stratify=y)"
      ],
      "metadata": {
        "id": "ywWb2vvxX1RX"
      },
      "execution_count": null,
      "outputs": []
    },
    {
      "cell_type": "markdown",
      "source": [
        "## Train"
      ],
      "metadata": {
        "id": "DDyCO8tOXpDS"
      }
    },
    {
      "cell_type": "code",
      "execution_count": null,
      "metadata": {
        "id": "hQvvcvQjY7Zt"
      },
      "outputs": [],
      "source": [
        "lr = LogisticRegression()"
      ]
    },
    {
      "cell_type": "code",
      "execution_count": null,
      "metadata": {
        "id": "64L0fSfxal2s",
        "colab": {
          "base_uri": "https://localhost:8080/",
          "height": 75
        },
        "outputId": "db3b9681-3ded-4400-9401-0273568fa712"
      },
      "outputs": [
        {
          "output_type": "execute_result",
          "data": {
            "text/plain": [
              "LogisticRegression()"
            ],
            "text/html": [
              "<style>#sk-container-id-1 {color: black;background-color: white;}#sk-container-id-1 pre{padding: 0;}#sk-container-id-1 div.sk-toggleable {background-color: white;}#sk-container-id-1 label.sk-toggleable__label {cursor: pointer;display: block;width: 100%;margin-bottom: 0;padding: 0.3em;box-sizing: border-box;text-align: center;}#sk-container-id-1 label.sk-toggleable__label-arrow:before {content: \"▸\";float: left;margin-right: 0.25em;color: #696969;}#sk-container-id-1 label.sk-toggleable__label-arrow:hover:before {color: black;}#sk-container-id-1 div.sk-estimator:hover label.sk-toggleable__label-arrow:before {color: black;}#sk-container-id-1 div.sk-toggleable__content {max-height: 0;max-width: 0;overflow: hidden;text-align: left;background-color: #f0f8ff;}#sk-container-id-1 div.sk-toggleable__content pre {margin: 0.2em;color: black;border-radius: 0.25em;background-color: #f0f8ff;}#sk-container-id-1 input.sk-toggleable__control:checked~div.sk-toggleable__content {max-height: 200px;max-width: 100%;overflow: auto;}#sk-container-id-1 input.sk-toggleable__control:checked~label.sk-toggleable__label-arrow:before {content: \"▾\";}#sk-container-id-1 div.sk-estimator input.sk-toggleable__control:checked~label.sk-toggleable__label {background-color: #d4ebff;}#sk-container-id-1 div.sk-label input.sk-toggleable__control:checked~label.sk-toggleable__label {background-color: #d4ebff;}#sk-container-id-1 input.sk-hidden--visually {border: 0;clip: rect(1px 1px 1px 1px);clip: rect(1px, 1px, 1px, 1px);height: 1px;margin: -1px;overflow: hidden;padding: 0;position: absolute;width: 1px;}#sk-container-id-1 div.sk-estimator {font-family: monospace;background-color: #f0f8ff;border: 1px dotted black;border-radius: 0.25em;box-sizing: border-box;margin-bottom: 0.5em;}#sk-container-id-1 div.sk-estimator:hover {background-color: #d4ebff;}#sk-container-id-1 div.sk-parallel-item::after {content: \"\";width: 100%;border-bottom: 1px solid gray;flex-grow: 1;}#sk-container-id-1 div.sk-label:hover label.sk-toggleable__label {background-color: #d4ebff;}#sk-container-id-1 div.sk-serial::before {content: \"\";position: absolute;border-left: 1px solid gray;box-sizing: border-box;top: 0;bottom: 0;left: 50%;z-index: 0;}#sk-container-id-1 div.sk-serial {display: flex;flex-direction: column;align-items: center;background-color: white;padding-right: 0.2em;padding-left: 0.2em;position: relative;}#sk-container-id-1 div.sk-item {position: relative;z-index: 1;}#sk-container-id-1 div.sk-parallel {display: flex;align-items: stretch;justify-content: center;background-color: white;position: relative;}#sk-container-id-1 div.sk-item::before, #sk-container-id-1 div.sk-parallel-item::before {content: \"\";position: absolute;border-left: 1px solid gray;box-sizing: border-box;top: 0;bottom: 0;left: 50%;z-index: -1;}#sk-container-id-1 div.sk-parallel-item {display: flex;flex-direction: column;z-index: 1;position: relative;background-color: white;}#sk-container-id-1 div.sk-parallel-item:first-child::after {align-self: flex-end;width: 50%;}#sk-container-id-1 div.sk-parallel-item:last-child::after {align-self: flex-start;width: 50%;}#sk-container-id-1 div.sk-parallel-item:only-child::after {width: 0;}#sk-container-id-1 div.sk-dashed-wrapped {border: 1px dashed gray;margin: 0 0.4em 0.5em 0.4em;box-sizing: border-box;padding-bottom: 0.4em;background-color: white;}#sk-container-id-1 div.sk-label label {font-family: monospace;font-weight: bold;display: inline-block;line-height: 1.2em;}#sk-container-id-1 div.sk-label-container {text-align: center;}#sk-container-id-1 div.sk-container {/* jupyter's `normalize.less` sets `[hidden] { display: none; }` but bootstrap.min.css set `[hidden] { display: none !important; }` so we also need the `!important` here to be able to override the default hidden behavior on the sphinx rendered scikit-learn.org. See: https://github.com/scikit-learn/scikit-learn/issues/21755 */display: inline-block !important;position: relative;}#sk-container-id-1 div.sk-text-repr-fallback {display: none;}</style><div id=\"sk-container-id-1\" class=\"sk-top-container\"><div class=\"sk-text-repr-fallback\"><pre>LogisticRegression()</pre><b>In a Jupyter environment, please rerun this cell to show the HTML representation or trust the notebook. <br />On GitHub, the HTML representation is unable to render, please try loading this page with nbviewer.org.</b></div><div class=\"sk-container\" hidden><div class=\"sk-item\"><div class=\"sk-estimator sk-toggleable\"><input class=\"sk-toggleable__control sk-hidden--visually\" id=\"sk-estimator-id-1\" type=\"checkbox\" checked><label for=\"sk-estimator-id-1\" class=\"sk-toggleable__label sk-toggleable__label-arrow\">LogisticRegression</label><div class=\"sk-toggleable__content\"><pre>LogisticRegression()</pre></div></div></div></div></div>"
            ]
          },
          "metadata": {},
          "execution_count": 16
        }
      ],
      "source": [
        "lr.fit(x_train, y_train)"
      ]
    },
    {
      "cell_type": "markdown",
      "metadata": {
        "id": "_Of_Enjzk1j_"
      },
      "source": [
        "## Model Accuracy"
      ]
    },
    {
      "cell_type": "code",
      "execution_count": null,
      "metadata": {
        "id": "zBbnx0Usk1j_"
      },
      "outputs": [],
      "source": [
        "pred = lr.predict(x_test)"
      ]
    },
    {
      "cell_type": "code",
      "source": [
        "print(\"Train score is:\",lr.score(x_test,y_test)*100)"
      ],
      "metadata": {
        "id": "b59e1GJigeXV",
        "colab": {
          "base_uri": "https://localhost:8080/"
        },
        "outputId": "0825b775-c234-4aae-b679-ff8ca00b9dae"
      },
      "execution_count": null,
      "outputs": [
        {
          "output_type": "stream",
          "name": "stdout",
          "text": [
            "Train score is: 59.28227624444038\n"
          ]
        }
      ]
    },
    {
      "cell_type": "markdown",
      "metadata": {
        "id": "83usTu3fk1j_"
      },
      "source": [
        "## Evaluation Metric"
      ]
    },
    {
      "cell_type": "code",
      "source": [
        "## Evaluation Matrics\n",
        "from sklearn.metrics import confusion_matrix,classification_report"
      ],
      "metadata": {
        "id": "ZOxLrt15qgxG"
      },
      "execution_count": null,
      "outputs": []
    },
    {
      "cell_type": "code",
      "execution_count": null,
      "metadata": {
        "id": "aHyBaccwk1j_",
        "colab": {
          "base_uri": "https://localhost:8080/",
          "height": 487
        },
        "outputId": "c0f65bec-2e2f-4e91-fc98-37be2244b8af"
      },
      "outputs": [
        {
          "output_type": "display_data",
          "data": {
            "text/plain": [
              "<Figure size 500x500 with 2 Axes>"
            ],
            "image/png": "[encoded data removed]"
          },
          "metadata": {}
        }
      ],
      "source": [
        "# Creating the confusion matrix:\n",
        "knn_cm = confusion_matrix(y_test, pred)\n",
        "# Visualization:\n",
        "f, ax = plt.subplots(figsize=(5,5))\n",
        "sns.heatmap(knn_cm, annot=True, linewidth=0.7, linecolor='cyan', fmt='.0f', ax=ax, cmap='Blues_r')\n",
        "plt.title('LR Classification Confusion Matrix')\n",
        "plt.xlabel('y_pred')\n",
        "plt.ylabel('y_test')\n",
        "plt.show()"
      ]
    },
    {
      "cell_type": "code",
      "execution_count": null,
      "metadata": {
        "id": "d_3DCl8ik1kA",
        "colab": {
          "base_uri": "https://localhost:8080/"
        },
        "outputId": "997059f0-2b5e-40ec-a905-2613c50b1500"
      },
      "outputs": [
        {
          "output_type": "stream",
          "name": "stdout",
          "text": [
            "              precision    recall  f1-score   support\n",
            "\n",
            "           0       0.54      0.28      0.37     23387\n",
            "           1       0.61      0.88      0.72     44448\n",
            "           2       0.50      0.21      0.29     14230\n",
            "\n",
            "    accuracy                           0.59     82065\n",
            "   macro avg       0.55      0.46      0.46     82065\n",
            "weighted avg       0.57      0.59      0.55     82065\n",
            "\n"
          ]
        }
      ],
      "source": [
        "print(classification_report(y_test, pred))"
      ]
    },
    {
      "cell_type": "markdown",
      "source": [
        "## Deep learing"
      ],
      "metadata": {
        "id": "5JBL1Hjqk-kx"
      }
    },
    {
      "cell_type": "code",
      "source": [
        "df = pd.concat([train_df, test_df])\n",
        "df = df.drop(['uuid', 'HR'], axis=1)\n",
        "#df = df[0:3000]\n",
        "\n",
        "## Label Encoder\n",
        "lb = LabelEncoder()  ## Encoder that convert and store all the information\n",
        "df['condition'] = lb.fit_transform(df['condition'])\n",
        "\n",
        "x = df.drop('condition', axis=1)\n",
        "y = df.condition"
      ],
      "metadata": {
        "id": "yhwGb3xUtp6l"
      },
      "execution_count": null,
      "outputs": []
    },
    {
      "cell_type": "code",
      "source": [
        "## Model\n",
        "lrr = LogisticRegression(penalty=\"l2\",)\n",
        "lrr.fit(x, y)\n",
        "result = permutation_importance(lrr, x, y, n_repeats=3, random_state=0)\n",
        "sorted_idx = result.importances_mean.argsort()\n",
        "index = sorted_idx[25:33]\n",
        "x = x.iloc[:, index]"
      ],
      "metadata": {
        "colab": {
          "base_uri": "https://localhost:8080/"
        },
        "id": "seJMJBjatp6m",
        "outputId": "f15087c0-3bec-47f2-cf4f-d96c36f703c7"
      },
      "execution_count": null,
      "outputs": [
        {
          "output_type": "stream",
          "name": "stderr",
          "text": [
            "/usr/local/lib/python3.9/dist-packages/sklearn/linear_model/_logistic.py:458: ConvergenceWarning: lbfgs failed to converge (status=1):\n",
            "STOP: TOTAL NO. of ITERATIONS REACHED LIMIT.\n",
            "\n",
            "Increase the number of iterations (max_iter) or scale the data as shown in:\n",
            "    https://scikit-learn.org/stable/modules/preprocessing.html\n",
            "Please also refer to the documentation for alternative solver options:\n",
            "    https://scikit-learn.org/stable/modules/linear_model.html#logistic-regression\n",
            "  n_iter_i = _check_optimize_result(\n"
          ]
        }
      ]
    },
    {
      "cell_type": "code",
      "source": [
        "  # Standardizing the features\n",
        "sc = StandardScaler()\n",
        "x = sc.fit_transform(x)"
      ],
      "metadata": {
        "id": "lZtgztSdtp6m"
      },
      "execution_count": null,
      "outputs": []
    },
    {
      "cell_type": "code",
      "source": [
        "y = to_categorical(y)"
      ],
      "metadata": {
        "id": "T1gPYqFQk_yA"
      },
      "execution_count": null,
      "outputs": []
    },
    {
      "cell_type": "code",
      "source": [
        "\"\"\" Select the 80% of the data as Training data and 20% as test data \"\"\"\n",
        "x_train, x_test, y_train, y_test = train_test_split(x, y, test_size=0.2, random_state=85, shuffle=True, stratify=y)"
      ],
      "metadata": {
        "id": "GZFLGlUjtp6n"
      },
      "execution_count": null,
      "outputs": []
    },
    {
      "cell_type": "markdown",
      "source": [
        "## Deep Learning"
      ],
      "metadata": {
        "id": "eiiGQ0K5lWGX"
      }
    },
    {
      "cell_type": "code",
      "source": [
        "import keras\n",
        "from keras.models import Sequential\n",
        "from keras.layers import Dense\n",
        "from keras.utils import to_categorical "
      ],
      "metadata": {
        "id": "BSn13of2M8Lq"
      },
      "execution_count": null,
      "outputs": []
    },
    {
      "cell_type": "code",
      "source": [
        "n_cols = x_train.shape[1]\n",
        "input_shape = (n_cols,)\n",
        "\n",
        "# Define model architecture\n",
        "# n_cols = X_train.shape[1]\n",
        "model = Sequential()\n",
        "# model.add(Dense(50, input_dim=33, activation='relu'))\n",
        "model.add(Dense(50, activation='relu', input_shape = input_shape))\n",
        "model.add(Dense(32, activation='relu'))\n",
        "model.add(Dense(3, activation='softmax')) # change to 8 neurons"
      ],
      "metadata": {
        "id": "8JK0cQjglYBb"
      },
      "execution_count": null,
      "outputs": []
    },
    {
      "cell_type": "code",
      "source": [
        "# Compile model\n",
        "model.compile(loss='categorical_crossentropy', optimizer='adam', metrics=['accuracy'])"
      ],
      "metadata": {
        "id": "BNHbCI9BlfD2"
      },
      "execution_count": null,
      "outputs": []
    },
    {
      "cell_type": "markdown",
      "source": [
        "## Train Model"
      ],
      "metadata": {
        "id": "kLNUszGblhJQ"
      }
    },
    {
      "cell_type": "code",
      "source": [
        "model.fit(x_train, y_train, epochs=15, batch_size=32, validation_split=0.2)"
      ],
      "metadata": {
        "colab": {
          "base_uri": "https://localhost:8080/"
        },
        "id": "IxZfoFjtlgwp",
        "outputId": "b1bbd426-bb97-4cf0-bb4f-664066c3f8e0"
      },
      "execution_count": null,
      "outputs": [
        {
          "output_type": "stream",
          "name": "stdout",
          "text": [
            "Epoch 1/15\n",
            "8207/8207 [==============================] - 22s 3ms/step - loss: 0.4871 - accuracy: 0.7969 - val_loss: 0.3531 - val_accuracy: 0.8604\n",
            "Epoch 2/15\n",
            "8207/8207 [==============================] - 23s 3ms/step - loss: 0.2968 - accuracy: 0.8834 - val_loss: 0.2645 - val_accuracy: 0.8957\n",
            "Epoch 3/15\n",
            "8207/8207 [==============================] - 20s 2ms/step - loss: 0.2367 - accuracy: 0.9072 - val_loss: 0.2172 - val_accuracy: 0.9141\n",
            "Epoch 4/15\n",
            "8207/8207 [==============================] - 21s 3ms/step - loss: 0.2012 - accuracy: 0.9228 - val_loss: 0.1930 - val_accuracy: 0.9253\n",
            "Epoch 5/15\n",
            "8207/8207 [==============================] - 19s 2ms/step - loss: 0.1768 - accuracy: 0.9323 - val_loss: 0.1638 - val_accuracy: 0.9368\n",
            "Epoch 6/15\n",
            "8207/8207 [==============================] - 21s 3ms/step - loss: 0.1572 - accuracy: 0.9405 - val_loss: 0.1510 - val_accuracy: 0.9457\n",
            "Epoch 7/15\n",
            "8207/8207 [==============================] - 20s 2ms/step - loss: 0.1427 - accuracy: 0.9462 - val_loss: 0.1297 - val_accuracy: 0.9530\n",
            "Epoch 8/15\n",
            "8207/8207 [==============================] - 20s 2ms/step - loss: 0.1326 - accuracy: 0.9499 - val_loss: 0.1213 - val_accuracy: 0.9559\n",
            "Epoch 9/15\n",
            "8207/8207 [==============================] - 22s 3ms/step - loss: 0.1235 - accuracy: 0.9538 - val_loss: 0.1128 - val_accuracy: 0.9601\n",
            "Epoch 10/15\n",
            "8207/8207 [==============================] - 23s 3ms/step - loss: 0.1162 - accuracy: 0.9571 - val_loss: 0.1001 - val_accuracy: 0.9627\n",
            "Epoch 11/15\n",
            "8207/8207 [==============================] - 19s 2ms/step - loss: 0.1100 - accuracy: 0.9588 - val_loss: 0.1173 - val_accuracy: 0.9554\n",
            "Epoch 12/15\n",
            "8207/8207 [==============================] - 22s 3ms/step - loss: 0.1056 - accuracy: 0.9612 - val_loss: 0.0993 - val_accuracy: 0.9646\n",
            "Epoch 13/15\n",
            "8207/8207 [==============================] - 19s 2ms/step - loss: 0.1013 - accuracy: 0.9626 - val_loss: 0.1182 - val_accuracy: 0.9607\n",
            "Epoch 14/15\n",
            "8207/8207 [==============================] - 20s 2ms/step - loss: 0.0972 - accuracy: 0.9644 - val_loss: 0.0876 - val_accuracy: 0.9689\n",
            "Epoch 15/15\n",
            "8207/8207 [==============================] - 19s 2ms/step - loss: 0.0932 - accuracy: 0.9658 - val_loss: 0.0928 - val_accuracy: 0.9668\n"
          ]
        },
        {
          "output_type": "execute_result",
          "data": {
            "text/plain": [
              "<keras.callbacks.History at 0x7fbbbaea4d90>"
            ]
          },
          "metadata": {},
          "execution_count": 30
        }
      ]
    },
    {
      "cell_type": "code",
      "source": [
        "model.evaluate(x_test, y_test)"
      ],
      "metadata": {
        "colab": {
          "base_uri": "https://localhost:8080/"
        },
        "id": "YFPNgVvONh4b",
        "outputId": "ac032c93-4eb0-456a-c275-a51af62aacab"
      },
      "execution_count": null,
      "outputs": [
        {
          "output_type": "stream",
          "name": "stdout",
          "text": [
            "2565/2565 [==============================] - 5s 2ms/step - loss: 0.0912 - accuracy: 0.9675\n"
          ]
        },
        {
          "output_type": "execute_result",
          "data": {
            "text/plain": [
              "[0.09123361110687256, 0.9674526453018188]"
            ]
          },
          "metadata": {},
          "execution_count": 31
        }
      ]
    },
    {
      "cell_type": "code",
      "source": [
        "model.summary()"
      ],
      "metadata": {
        "colab": {
          "base_uri": "https://localhost:8080/"
        },
        "id": "fPC0xjW8tUjg",
        "outputId": "0a913c8f-5040-4791-e6d0-75f6ad1b4d98"
      },
      "execution_count": null,
      "outputs": [
        {
          "output_type": "stream",
          "name": "stdout",
          "text": [
            "Model: \"sequential\"\n",
            "_________________________________________________________________\n",
            " Layer (type)                Output Shape              Param #   \n",
            "=================================================================\n",
            " dense (Dense)               (None, 50)                450       \n",
            "                                                                 \n",
            " dense_1 (Dense)             (None, 32)                1632      \n",
            "                                                                 \n",
            " dense_2 (Dense)             (None, 3)                 99        \n",
            "                                                                 \n",
            "=================================================================\n",
            "Total params: 2,181\n",
            "Trainable params: 2,181\n",
            "Non-trainable params: 0\n",
            "_________________________________________________________________\n"
          ]
        }
      ]
    },
    {
      "cell_type": "code",
      "source": [
        "# assuming X_test contains the test data\n",
        "y_pred = model.predict(x_test)\n",
        "\n",
        "# get the predicted class labels\n",
        "y_pred_labels = np.argmax(y_pred, axis=1)"
      ],
      "metadata": {
        "colab": {
          "base_uri": "https://localhost:8080/"
        },
        "id": "OUyvhNSmWEIe",
        "outputId": "67ce504c-3aaf-470a-a850-e07c7f2bdcb0"
      },
      "execution_count": null,
      "outputs": [
        {
          "output_type": "stream",
          "name": "stdout",
          "text": [
            "2565/2565 [==============================] - 4s 1ms/step\n"
          ]
        }
      ]
    },
    {
      "cell_type": "code",
      "source": [
        "y_test_labels = np.argmax(y_test, axis=1)"
      ],
      "metadata": {
        "id": "y4aYU-eppXGb"
      },
      "execution_count": null,
      "outputs": []
    },
    {
      "cell_type": "code",
      "execution_count": null,
      "metadata": {
        "colab": {
          "base_uri": "https://localhost:8080/",
          "height": 487
        },
        "outputId": "52796397-66d0-4150-8445-2599f9fb663d",
        "id": "sDDJp4L6pT74"
      },
      "outputs": [
        {
          "output_type": "display_data",
          "data": {
            "text/plain": [
              "<Figure size 500x500 with 2 Axes>"
            ],
            "image/png": "[encoded data removed]"
          },
          "metadata": {}
        }
      ],
      "source": [
        "# Creating the confusion matrix:\n",
        "knn_cm = confusion_matrix(y_test_labels, y_pred_labels)\n",
        "# Visualization:\n",
        "f, ax = plt.subplots(figsize=(5,5))\n",
        "sns.heatmap(knn_cm, annot=True, linewidth=0.7, linecolor='cyan', fmt='.0f', ax=ax, cmap='Blues_r')\n",
        "plt.title('Deep Classification Confusion Matrix')\n",
        "plt.xlabel('y_pred')\n",
        "plt.ylabel('y_test')\n",
        "plt.show()"
      ]
    },
    {
      "cell_type": "code",
      "execution_count": null,
      "metadata": {
        "colab": {
          "base_uri": "https://localhost:8080/"
        },
        "outputId": "3c9baef9-4fc2-46f8-852e-3727f2fdf464",
        "id": "7VF_dCejpT75"
      },
      "outputs": [
        {
          "output_type": "stream",
          "name": "stdout",
          "text": [
            "              precision    recall  f1-score   support\n",
            "\n",
            "           0       0.94      0.98      0.96     22426\n",
            "           1       0.98      0.97      0.97     44829\n",
            "           2       0.97      0.93      0.95     14810\n",
            "\n",
            "    accuracy                           0.97     82065\n",
            "   macro avg       0.96      0.96      0.96     82065\n",
            "weighted avg       0.97      0.97      0.97     82065\n",
            "\n"
          ]
        }
      ],
      "source": [
        "print(classification_report(y_pred_labels, y_test_labels))"
      ]
    },
    {
      "cell_type": "markdown",
      "source": [
        "## Client 2\n"
      ],
      "metadata": {
        "id": "C5eOvCYvzes7"
      }
    },
    {
      "cell_type": "code",
      "source": [
        "df = pd.concat([train_df, test_df])\n",
        "df = df.drop(['uuid', 'HR'], axis=1)\n",
        "#df = df[0:3000]\n",
        "\n",
        "## Label Encoder\n",
        "lb = LabelEncoder()  ## Encoder that convert and store all the information\n",
        "df['condition'] = lb.fit_transform(df['condition'])\n",
        "\n",
        "x = df.drop('condition', axis=1)\n",
        "y = df.condition"
      ],
      "metadata": {
        "id": "Cb175Mjlzf-M"
      },
      "execution_count": null,
      "outputs": []
    },
    {
      "cell_type": "code",
      "source": [
        "## Model\n",
        "lrr = LogisticRegression(penalty=\"l2\",)\n",
        "lrr.fit(x, y)\n",
        "result = permutation_importance(lrr, x, y, n_repeats=3, random_state=0)\n",
        "sorted_idx = result.importances_mean.argsort()\n",
        "index = sorted_idx[17:25]\n",
        "x = x.iloc[:, index]"
      ],
      "metadata": {
        "colab": {
          "base_uri": "https://localhost:8080/"
        },
        "outputId": "09909f87-7295-4dd9-c6f4-b2d878b65ac1",
        "id": "nMEpvFaAzf-M"
      },
      "execution_count": null,
      "outputs": [
        {
          "output_type": "stream",
          "name": "stderr",
          "text": [
            "/usr/local/lib/python3.9/dist-packages/sklearn/linear_model/_logistic.py:458: ConvergenceWarning: lbfgs failed to converge (status=1):\n",
            "STOP: TOTAL NO. of ITERATIONS REACHED LIMIT.\n",
            "\n",
            "Increase the number of iterations (max_iter) or scale the data as shown in:\n",
            "    https://scikit-learn.org/stable/modules/preprocessing.html\n",
            "Please also refer to the documentation for alternative solver options:\n",
            "    https://scikit-learn.org/stable/modules/linear_model.html#logistic-regression\n",
            "  n_iter_i = _check_optimize_result(\n"
          ]
        }
      ]
    },
    {
      "cell_type": "code",
      "source": [
        "  # Standardizing the features\n",
        "sc = StandardScaler()\n",
        "x = sc.fit_transform(x)"
      ],
      "metadata": {
        "id": "r61TGa8ezf-N"
      },
      "execution_count": null,
      "outputs": []
    },
    {
      "cell_type": "code",
      "source": [
        "y = to_categorical(y)"
      ],
      "metadata": {
        "id": "6y6VylHGzf-N"
      },
      "execution_count": null,
      "outputs": []
    },
    {
      "cell_type": "code",
      "source": [
        "\"\"\" Select the 80% of the data as Training data and 20% as test data \"\"\"\n",
        "x_train, x_test, y_train, y_test = train_test_split(x, y, test_size=0.2, random_state=85, shuffle=True, stratify=y)"
      ],
      "metadata": {
        "id": "R5l5FpZszf-N"
      },
      "execution_count": null,
      "outputs": []
    },
    {
      "cell_type": "code",
      "source": [
        "import keras\n",
        "from keras.models import Sequential\n",
        "from keras.layers import Dense\n",
        "from keras.utils import to_categorical "
      ],
      "metadata": {
        "id": "gx17nP_ezf-N"
      },
      "execution_count": null,
      "outputs": []
    },
    {
      "cell_type": "code",
      "source": [
        "n_cols = x_train.shape[1]\n",
        "input_shape = (n_cols,)\n",
        "\n",
        "# Define model architecture\n",
        "# n_cols = X_train.shape[1]\n",
        "model = Sequential()\n",
        "# model.add(Dense(50, input_dim=33, activation='relu'))\n",
        "model.add(Dense(50, activation='relu', input_shape = input_shape))\n",
        "model.add(Dense(32, activation='relu'))\n",
        "model.add(Dense(3, activation='softmax')) # change to 8 neurons"
      ],
      "metadata": {
        "id": "nifkBCxczf-O"
      },
      "execution_count": null,
      "outputs": []
    },
    {
      "cell_type": "code",
      "source": [
        "# Compile model\n",
        "model.compile(loss='categorical_crossentropy', optimizer='adam', metrics=['accuracy'])"
      ],
      "metadata": {
        "id": "6LAnJEirzf-O"
      },
      "execution_count": null,
      "outputs": []
    },
    {
      "cell_type": "code",
      "source": [
        "model.fit(x_train, y_train, epochs=15, batch_size=32, validation_split=0.2)"
      ],
      "metadata": {
        "colab": {
          "base_uri": "https://localhost:8080/"
        },
        "outputId": "25f97711-c1c1-44c7-b47d-35c884c19701",
        "id": "GWfF6p_Kzf-O"
      },
      "execution_count": null,
      "outputs": [
        {
          "output_type": "stream",
          "name": "stdout",
          "text": [
            "Epoch 1/15\n",
            "8207/8207 [==============================] - 20s 2ms/step - loss: 0.6241 - accuracy: 0.7222 - val_loss: 0.5075 - val_accuracy: 0.7696\n",
            "Epoch 2/15\n",
            "8207/8207 [==============================] - 21s 3ms/step - loss: 0.4609 - accuracy: 0.7993 - val_loss: 0.4215 - val_accuracy: 0.8194\n",
            "Epoch 3/15\n",
            "8207/8207 [==============================] - 23s 3ms/step - loss: 0.3990 - accuracy: 0.8326 - val_loss: 0.3778 - val_accuracy: 0.8445\n",
            "Epoch 4/15\n",
            "8207/8207 [==============================] - 19s 2ms/step - loss: 0.3632 - accuracy: 0.8511 - val_loss: 0.3583 - val_accuracy: 0.8567\n",
            "Epoch 5/15\n",
            "8207/8207 [==============================] - 22s 3ms/step - loss: 0.3417 - accuracy: 0.8618 - val_loss: 0.3241 - val_accuracy: 0.8722\n",
            "Epoch 6/15\n",
            "8207/8207 [==============================] - 22s 3ms/step - loss: 0.3252 - accuracy: 0.8695 - val_loss: 0.3301 - val_accuracy: 0.8652\n",
            "Epoch 7/15\n",
            "8207/8207 [==============================] - 20s 2ms/step - loss: 0.3126 - accuracy: 0.8753 - val_loss: 0.3038 - val_accuracy: 0.8830\n",
            "Epoch 8/15\n",
            "8207/8207 [==============================] - 20s 2ms/step - loss: 0.3031 - accuracy: 0.8788 - val_loss: 0.2947 - val_accuracy: 0.8778\n",
            "Epoch 9/15\n",
            "8207/8207 [==============================] - 19s 2ms/step - loss: 0.2943 - accuracy: 0.8824 - val_loss: 0.2889 - val_accuracy: 0.8861\n",
            "Epoch 10/15\n",
            "8207/8207 [==============================] - 20s 2ms/step - loss: 0.2860 - accuracy: 0.8860 - val_loss: 0.2812 - val_accuracy: 0.8911\n",
            "Epoch 11/15\n",
            "8207/8207 [==============================] - 19s 2ms/step - loss: 0.2795 - accuracy: 0.8886 - val_loss: 0.2770 - val_accuracy: 0.8911\n",
            "Epoch 12/15\n",
            "8207/8207 [==============================] - 20s 2ms/step - loss: 0.2738 - accuracy: 0.8914 - val_loss: 0.2606 - val_accuracy: 0.8971\n",
            "Epoch 13/15\n",
            "8207/8207 [==============================] - 19s 2ms/step - loss: 0.2684 - accuracy: 0.8932 - val_loss: 0.2663 - val_accuracy: 0.8945\n",
            "Epoch 14/15\n",
            "8207/8207 [==============================] - 20s 2ms/step - loss: 0.2624 - accuracy: 0.8960 - val_loss: 0.2806 - val_accuracy: 0.8881\n",
            "Epoch 15/15\n",
            "8207/8207 [==============================] - 19s 2ms/step - loss: 0.2569 - accuracy: 0.8975 - val_loss: 0.2429 - val_accuracy: 0.9031\n"
          ]
        },
        {
          "output_type": "execute_result",
          "data": {
            "text/plain": [
              "<keras.callbacks.History at 0x7fbbc26404f0>"
            ]
          },
          "metadata": {},
          "execution_count": 45
        }
      ]
    },
    {
      "cell_type": "code",
      "source": [
        "model.evaluate(x_test, y_test)"
      ],
      "metadata": {
        "colab": {
          "base_uri": "https://localhost:8080/"
        },
        "outputId": "90a07f34-ee1d-4161-c309-f8ed503333d6",
        "id": "0f2enW_pzf-O"
      },
      "execution_count": null,
      "outputs": [
        {
          "output_type": "stream",
          "name": "stdout",
          "text": [
            "2565/2565 [==============================] - 4s 2ms/step - loss: 0.2445 - accuracy: 0.9027\n"
          ]
        },
        {
          "output_type": "execute_result",
          "data": {
            "text/plain": [
              "[0.24447256326675415, 0.9027478098869324]"
            ]
          },
          "metadata": {},
          "execution_count": 46
        }
      ]
    },
    {
      "cell_type": "code",
      "source": [
        "# assuming X_test contains the test data\n",
        "y_pred = model.predict(x_test)\n",
        "\n",
        "# get the predicted class labels\n",
        "y_pred_labels = np.argmax(y_pred, axis=1)"
      ],
      "metadata": {
        "colab": {
          "base_uri": "https://localhost:8080/"
        },
        "outputId": "fadbe6bb-b890-47ff-9dba-4b9d4f4b8cec",
        "id": "d-PDOlfLzf-P"
      },
      "execution_count": null,
      "outputs": [
        {
          "output_type": "stream",
          "name": "stdout",
          "text": [
            "2565/2565 [==============================] - 4s 2ms/step\n"
          ]
        }
      ]
    },
    {
      "cell_type": "code",
      "source": [
        "y_test_labels = np.argmax(y_test, axis=1)"
      ],
      "metadata": {
        "id": "aoJJ5hEAzf-P"
      },
      "execution_count": null,
      "outputs": []
    },
    {
      "cell_type": "code",
      "execution_count": null,
      "metadata": {
        "colab": {
          "base_uri": "https://localhost:8080/",
          "height": 487
        },
        "outputId": "f20f6a4e-9d08-4be1-b01f-7de8b54da437",
        "id": "iiA0ZWz7zf-P"
      },
      "outputs": [
        {
          "output_type": "display_data",
          "data": {
            "text/plain": [
              "<Figure size 500x500 with 2 Axes>"
            ],
            "image/png": "[encoded data removed]"
          },
          "metadata": {}
        }
      ],
      "source": [
        "# Creating the confusion matrix:\n",
        "knn_cm = confusion_matrix(y_test_labels, y_pred_labels)\n",
        "# Visualization:\n",
        "f, ax = plt.subplots(figsize=(5,5))\n",
        "sns.heatmap(knn_cm, annot=True, linewidth=0.7, linecolor='cyan', fmt='.0f', ax=ax, cmap='Blues_r')\n",
        "plt.title('Deep Classification Confusion Matrix')\n",
        "plt.xlabel('y_pred')\n",
        "plt.ylabel('y_test')\n",
        "plt.show()"
      ]
    },
    {
      "cell_type": "code",
      "execution_count": null,
      "metadata": {
        "colab": {
          "base_uri": "https://localhost:8080/"
        },
        "outputId": "6b8222d1-4fb0-4e26-f3a5-8d8039b51b1d",
        "id": "FVRGUMIezf-P"
      },
      "outputs": [
        {
          "output_type": "stream",
          "name": "stdout",
          "text": [
            "              precision    recall  f1-score   support\n",
            "\n",
            "           0       0.89      0.87      0.88     23881\n",
            "           1       0.92      0.93      0.93     44135\n",
            "           2       0.85      0.87      0.86     14049\n",
            "\n",
            "    accuracy                           0.90     82065\n",
            "   macro avg       0.89      0.89      0.89     82065\n",
            "weighted avg       0.90      0.90      0.90     82065\n",
            "\n"
          ]
        }
      ],
      "source": [
        "print(classification_report(y_pred_labels, y_test_labels))"
      ]
    }
  ]
}